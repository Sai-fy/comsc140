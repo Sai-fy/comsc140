{
  "cells": [
    {
      "cell_type": "markdown",
      "metadata": {
        "id": "M45SuN35PCuG"
      },
      "source": [
        "# <p style=\"font-family: Arial; font-size:1.4em;color:red;\"> Chapter 3. Decision Structures and Boolean Logic </p>\n",
        "<li> 3.1 The if Statement </li>\n",
        "<li> 3.2 The if-else Statement </li>\n",
        "<li> 3.3 Comparing Strings </li>\n",
        "<li> 3.4 Nested Decision Structures and the if-elif-else Statement </li>\n",
        "<li> 3.5 Logical Operators </li>\n",
        "<li> 3.6 Boolean Variables </li>"
      ]
    },
    {
      "cell_type": "markdown",
      "metadata": {
        "id": "1MqPE8OYPCuG"
      },
      "source": [
        "***\n",
        "# <p style=\"font-family: Arial; font-size:1.4em;color:red;\"> 1. Basic If statement </p>"
      ]
    },
    {
      "cell_type": "markdown",
      "metadata": {
        "id": "ctjM1MQ_PCuH"
      },
      "source": [
        "\n",
        "### <a href=\"https://docs.python.org/3/reference/compound_stmts.html#the-if-statement\"> Python Document\n",
        "<img src =\"https://p76.f0.n0.cdn.getcloudapp.com/items/RBuymyQx/5b9e398d-9339-47e9-b7cc-3de7e83dee6f.jpg?v=b1c31360e564f178e39a3d7373b6979b\"> </a>"
      ]
    },
    {
      "cell_type": "markdown",
      "metadata": {
        "id": "Y2IsXhkKPCuH"
      },
      "source": [
        "### Boolean Expression and Relational Operators\n",
        "\n",
        "<img src=\"https://p76.f0.n0.cdn.getcloudapp.com/items/YEuBkB7B/d8fe2712-76cc-4478-bd79-7c9b8d8f5b4d.jpg?v=b1eec79ab236a39691d7f4df6a371842\">"
      ]
    },
    {
      "cell_type": "markdown",
      "metadata": {
        "id": "NYOWHk4XPCuH"
      },
      "source": [
        "#### <p style=\"font-family: Arial; font-size:1.4em; background-color: yellow; color:black;\"> Problem #1.0 </p>\n",
        "Run the below code cell and figure out the basic usage of if-statement\n",
        "<br>\n"
      ]
    },
    {
      "cell_type": "code",
      "execution_count": 1,
      "metadata": {
        "colab": {
          "base_uri": "https://localhost:8080/"
        },
        "id": "okHFjx7zPCuH",
        "outputId": "e52771a7-131f-47c5-ef05-bd04ebd27a85"
      },
      "outputs": [
        {
          "output_type": "stream",
          "name": "stdout",
          "text": [
            "Enter the number1\n",
            "The number 1 is greater than 0\n"
          ]
        }
      ],
      "source": [
        "number = int(input('Enter the number'))\n",
        "\n",
        "if number > 0:\n",
        "    print (f'The number {number} is greater than 0')"
      ]
    },
    {
      "cell_type": "code",
      "execution_count": 2,
      "metadata": {
        "id": "4uhzufKiPCuH"
      },
      "outputs": [],
      "source": [
        "if number < 0:\n",
        "    print (f'The number {number} is less than 0')"
      ]
    },
    {
      "cell_type": "code",
      "execution_count": 3,
      "metadata": {
        "colab": {
          "base_uri": "https://localhost:8080/"
        },
        "id": "APzePYUAPCuH",
        "outputId": "08c2a728-eb51-4166-80b0-16c3adcd28f3"
      },
      "outputs": [
        {
          "output_type": "stream",
          "name": "stdout",
          "text": [
            "Enter your score98\n",
            "The score  98  is great than 90\n"
          ]
        }
      ],
      "source": [
        "x = input(\"Enter your score\")\n",
        "\n",
        "if int(x) > 90:\n",
        "\tprint (\"The score \", x ,  \" is great than 90\")\n",
        "else:\n",
        "\tprint (\" The score \", x,  \"is less than or equal to 90\")\n"
      ]
    },
    {
      "cell_type": "code",
      "execution_count": 5,
      "metadata": {
        "colab": {
          "base_uri": "https://localhost:8080/"
        },
        "id": "FS65jNfcPCuH",
        "outputId": "a41ac5ff-9f8e-4fd4-cda8-db36f0dc3afe"
      },
      "outputs": [
        {
          "output_type": "stream",
          "name": "stdout",
          "text": [
            "Enter your score87\n",
            "The grade : B\n"
          ]
        }
      ],
      "source": [
        "score = int(input('Enter your score'))\n",
        "if score > 90:\n",
        "\tprint (\"The grade : A\")\n",
        "else:\n",
        "\tif score > 80 :   # (score < 90 ) and ( score >80)\n",
        "\t\tprint (\"The grade : B\")\n",
        "\telif score > 70:   # (score < 80 ) and ( score >70)\n",
        "\t\tprint (\"The grade : C\")\n"
      ]
    },
    {
      "cell_type": "markdown",
      "metadata": {
        "id": "pP1H3zqsPCuI"
      },
      "source": [
        "#### <p style=\"font-family: Arial; font-size:1.4em; background-color: yellow; color:black;\"> Problem #1.1 </p>\n",
        "1. Input a number\n",
        "2. Decide whether it is even or odd number\n",
        "3. Print the result ( Even or Odd)\n",
        "<br>\n"
      ]
    },
    {
      "cell_type": "code",
      "execution_count": 6,
      "metadata": {
        "colab": {
          "base_uri": "https://localhost:8080/"
        },
        "id": "1L4shutIPCuI",
        "outputId": "14e93f9d-2852-4130-d1c7-b148ade60074"
      },
      "outputs": [
        {
          "output_type": "stream",
          "name": "stdout",
          "text": [
            "Enter a number2\n",
            "The number 2 is even number\n"
          ]
        }
      ],
      "source": [
        "number = int(input('Enter a number'))\n",
        "if number % 2 == 0:\n",
        "    print (f'The number {number} is even number')\n",
        "else:\n",
        "    print (f'The number {number} is odd number')"
      ]
    },
    {
      "cell_type": "markdown",
      "metadata": {
        "id": "at31bckXPCuI"
      },
      "source": [
        "#### <p style=\"font-family: Arial; font-size:1.4em; background-color: yellow; color:black;\"> Problem #1.2 </p>\n",
        "1. Input a number\n",
        "2. Decide whether a number is less than or equal to 100\n",
        "3. Print the result ( number is less than or equal to 100 or not)\n",
        "<br>\n"
      ]
    },
    {
      "cell_type": "code",
      "execution_count": 7,
      "metadata": {
        "colab": {
          "base_uri": "https://localhost:8080/"
        },
        "id": "jkYZin9iPCuI",
        "outputId": "f6e7c484-5a21-4f0c-f6ab-6d7ef98168e8"
      },
      "outputs": [
        {
          "output_type": "stream",
          "name": "stdout",
          "text": [
            "Enter a number100\n",
            "100\n"
          ]
        }
      ],
      "source": [
        "number = int(input('Enter a number'))\n",
        "\n",
        "if number <= 100:\n",
        "  print (number)# Complete the code"
      ]
    },
    {
      "cell_type": "markdown",
      "metadata": {
        "id": "PR5FZROvPCuI"
      },
      "source": [
        "#### <p style=\"font-family: Arial; font-size:1.4em; background-color: yellow; color:black;\"> Problem #1.3 </p>\n",
        "1. Input a first name\n",
        "2. Decide whether the name starts with 'A'\n",
        "3. Print the result ( True or False )\n",
        "<br>\n"
      ]
    },
    {
      "cell_type": "code",
      "execution_count": 14,
      "metadata": {
        "colab": {
          "base_uri": "https://localhost:8080/"
        },
        "id": "y3B5xrMXPCuI",
        "outputId": "866d2161-442c-44c2-db2c-aa4bcfd9e4f3"
      },
      "outputs": [
        {
          "name": "stdout",
          "output_type": "stream",
          "text": [
            "Enter a nameAlec\n"
          ]
        },
        {
          "output_type": "execute_result",
          "data": {
            "text/plain": [
              "True"
            ]
          },
          "metadata": {},
          "execution_count": 14
        }
      ],
      "source": [
        "name = input('Enter a name')\n",
        "\n",
        "if name.startswith('A'):# complete the code\n",
        "    result = True\n",
        "result\n",
        "\n",
        ""
      ]
    },
    {
      "cell_type": "markdown",
      "metadata": {
        "id": "fzMkWOONPCuI"
      },
      "source": [
        "#### <p style=\"font-family: Arial; font-size:1.4em; background-color: yellow; color:black;\"> Problem #1.4 </p>\n",
        "1. Set two floating number values to the variables, like\n",
        "> val1 = 12.34; val2 = 12.34000000000000001\n",
        "2. Decide whether two values are same\n",
        "3. Print the result ( True or False )\n",
        "<br>\n"
      ]
    },
    {
      "cell_type": "code",
      "execution_count": 15,
      "metadata": {
        "colab": {
          "base_uri": "https://localhost:8080/"
        },
        "id": "wgJOH6FyPCuI",
        "outputId": "3b14607d-ea30-4946-ade3-fa82bd1eb35e"
      },
      "outputs": [
        {
          "output_type": "stream",
          "name": "stdout",
          "text": [
            "Two value are same\n"
          ]
        }
      ],
      "source": [
        "val1 = 12.34; val2 = 12.340000000000000001\n",
        "\n",
        "if val1 == val2:\n",
        "    print ('Two value are same')"
      ]
    },
    {
      "cell_type": "code",
      "execution_count": 20,
      "metadata": {
        "colab": {
          "base_uri": "https://localhost:8080/"
        },
        "id": "GT1vBstMPCuI",
        "outputId": "06283199-9c51-4231-871b-676e964f930f"
      },
      "outputs": [
        {
          "output_type": "stream",
          "name": "stdout",
          "text": [
            "Two value are not same\n"
          ]
        }
      ],
      "source": [
        "val1 = 12.34; val2 = 12.340000000001\n",
        "\n",
        "if val1 == val2:\n",
        "    print ('Two value are same')\n",
        "else:\n",
        "    print ('Two value are not same')"
      ]
    },
    {
      "cell_type": "markdown",
      "metadata": {
        "id": "wiL2R6nZPCuJ"
      },
      "source": [
        "#### <p style=\"font-family: Arial; font-size:1.4em; background-color: yellow; color:black;\"> Problem #1.5 </p>\n",
        "1. Input two string values\n",
        "> strval1 = input('Enter a word')\n",
        "> strval2 = input('Enter a word')\n",
        "2. Decide which input value is greater in alphabetical order\n",
        "3. Print the greater word  \n",
        "<br>\n"
      ]
    },
    {
      "cell_type": "code",
      "execution_count": 21,
      "metadata": {
        "colab": {
          "base_uri": "https://localhost:8080/"
        },
        "id": "WFy-DB1aPCuJ",
        "outputId": "76371fb2-7eca-42f8-8716-e3ce38572900"
      },
      "outputs": [
        {
          "output_type": "stream",
          "name": "stdout",
          "text": [
            "Enter a wordboinkers\n",
            "Enter a wordsoup\n",
            "soup\n"
          ]
        }
      ],
      "source": [
        "strval1 = input('Enter a word')\n",
        "strval2 = input('Enter a word')\n",
        "if strval1 > strval2:\n",
        "    print (strval1)\n",
        "else:\n",
        "    print (strval2)\n",
        "# complete the code"
      ]
    },
    {
      "cell_type": "markdown",
      "metadata": {
        "id": "X-CIP1WZPCuJ"
      },
      "source": [
        "#### <p style=\"font-family: Arial; font-size:1.4em; background-color: yellow; color:black;\"> Problem #1.6 </p>\n",
        "1. Input two string values\n",
        "> strval1 = input('Enter a word')\n",
        "> strval2 = input('Enter a word')\n",
        "2. Determine which input value is longer in length.\n",
        "3. Print the longer word  \n",
        "<br>\n",
        "** Use the library <font color='red'> len( ) </font>\n"
      ]
    },
    {
      "cell_type": "code",
      "execution_count": 23,
      "metadata": {
        "colab": {
          "base_uri": "https://localhost:8080/"
        },
        "id": "u-4jo0eUPCuJ",
        "outputId": "98cc17c4-ea87-4174-8083-84a8bdd1c7a7"
      },
      "outputs": [
        {
          "output_type": "stream",
          "name": "stdout",
          "text": [
            "Enter a wordglobal\n",
            "Enter a wordcar\n",
            "global\n"
          ]
        }
      ],
      "source": [
        "strval1 = input('Enter a word')\n",
        "strval2 = input('Enter a word')\n",
        "\n",
        "if len(strval1) > len(strval2):\n",
        "    print (strval1)\n",
        "else:\n",
        "    print (strval2)\n",
        "\n",
        "# complete the code\n"
      ]
    },
    {
      "cell_type": "markdown",
      "metadata": {
        "id": "sKTx73lQPCuJ"
      },
      "source": [
        "## Don't forget to <font color='red'> **\"commit\"** </font> your work or <font color='red'> **\"save\"** </font> in Google Colab\n",
        "## before moving to the next section."
      ]
    },
    {
      "cell_type": "markdown",
      "metadata": {
        "id": "65AfxfjNPCuJ"
      },
      "source": [
        "***\n",
        "# <p style=\"font-family: Arial; font-size:1.4em;color:red;\"> 2. if-elif-else statement </p>"
      ]
    },
    {
      "cell_type": "markdown",
      "metadata": {
        "id": "aqoa-BSAPCuJ"
      },
      "source": [
        "<a href=\"https://docs.python.org/3/tutorial/controlflow.html#if-statements\"> <img src=\"https://p76.f0.n0.cdn.getcloudapp.com/items/4guZrZo9/7293141a-5f3f-44bc-9e97-4586b89a63dc.jpg?v=09b11b0fee8688bd799c1f90a09f723f\"> </a>"
      ]
    },
    {
      "cell_type": "markdown",
      "metadata": {
        "id": "QGUueANLPCuJ"
      },
      "source": [
        "#### <p style=\"font-family: Arial; font-size:1.4em; background-color: yellow; color:black;\"> Problem #2.0 </p>\n",
        "Run the below code cell and figure out the basic usage of if-statement\n",
        "<br>\n"
      ]
    },
    {
      "cell_type": "code",
      "execution_count": 24,
      "metadata": {
        "colab": {
          "base_uri": "https://localhost:8080/"
        },
        "id": "bV3ffzE0PCuJ",
        "outputId": "f603d6e4-6bba-46b6-83f1-6ffd7532c26e"
      },
      "outputs": [
        {
          "output_type": "stream",
          "name": "stdout",
          "text": [
            "Enter your score82\n",
            "The grade : B\n"
          ]
        }
      ],
      "source": [
        "# Take one user input\n",
        "# if it is even number, print\n",
        "# otherwise, do nothing\n",
        "\n",
        "score = int(input('Enter your score'))\n",
        "if score > 90:\n",
        "\tprint (\"The grade : A\")\n",
        "elif score > 80 :   # (score < 90 ) and ( score >80)\n",
        "\tprint (\"The grade : B\")\n",
        "elif score > 70:   # (score < 80 ) and ( score >70)\n",
        "\tprint (\"The grade : C\")\n"
      ]
    },
    {
      "cell_type": "code",
      "execution_count": 25,
      "metadata": {
        "colab": {
          "base_uri": "https://localhost:8080/"
        },
        "id": "swvJNLxcPCuJ",
        "outputId": "a38ded27-6436-427f-a73d-c975fdd559ea"
      },
      "outputs": [
        {
          "output_type": "stream",
          "name": "stdout",
          "text": [
            "Enter your score68\n",
            " The score  68 is less than or equal to 80\n"
          ]
        }
      ],
      "source": [
        "x = int(input(\"Enter your score\"))\n",
        "\n",
        "if x > 90:\n",
        "\tprint (\"The score \", x ,  \" is great than 90\")\n",
        "elif x > 80:\n",
        "\tprint (\"The score \", x ,  \" is great than 80\")\n",
        "else:\n",
        "\tprint (\" The score \", x,  \"is less than or equal to 80\")\n"
      ]
    },
    {
      "cell_type": "markdown",
      "metadata": {
        "id": "RmusGEB3PCuJ"
      },
      "source": [
        "#### <p style=\"font-family: Arial; font-size:1.4em; background-color: yellow; color:black;\"> Problem #2.1 </p>\n",
        "1. Input a score\n",
        "2. Determine the grade base on the following policy\n",
        "- A if greater than 90\n",
        "- B if greater than 80 and less than or equal 90\n",
        "- C if greater than 70 and less than or equal 80\n",
        "- D if greater than 60 and less than or equal 70\n",
        "- F if less than 60\n",
        "3. Print the final grade\n",
        "<br>\n"
      ]
    },
    {
      "cell_type": "code",
      "execution_count": 27,
      "metadata": {
        "colab": {
          "base_uri": "https://localhost:8080/"
        },
        "id": "_m4wicARPCuJ",
        "outputId": "a342ae53-2618-4833-c50c-74024f6fc81f"
      },
      "outputs": [
        {
          "output_type": "stream",
          "name": "stdout",
          "text": [
            "Enter a score60\n",
            "F\n"
          ]
        }
      ],
      "source": [
        "score = int(input('Enter a score'))\n",
        "\n",
        "if score > 90:\n",
        "    print ('A')\n",
        "elif score > 80 and score >= 90:\n",
        "    print ('B')\n",
        "elif score > 70 and score >= 80:\n",
        "    print ('C')\n",
        "elif score > 60 and score >= 70:\n",
        "    print ('D')\n",
        "elif score <= 60:\n",
        "    print ('F')\n",
        "# complete the code\n"
      ]
    },
    {
      "cell_type": "markdown",
      "metadata": {
        "id": "kgv9UaKkPCuK"
      },
      "source": [
        "<br>\n",
        "#### <p style=\"font-family: Arial; font-size:1.4em; background-color: yellow; color:black;\"> Problem #2.2 </p>\n",
        "\n",
        "1. Input a number\n",
        "2. Decide whether it is even ,odd number or zero\n",
        "3. Print the result ( Even, Odd, or Zero)\n",
        "\n",
        "> Use the if-elif-else statement\n"
      ]
    },
    {
      "cell_type": "code",
      "execution_count": 28,
      "metadata": {
        "colab": {
          "base_uri": "https://localhost:8080/"
        },
        "id": "TgsqOOTSPCuK",
        "outputId": "c9e40a83-af6c-4636-ae43-d59eb860887a"
      },
      "outputs": [
        {
          "output_type": "stream",
          "name": "stdout",
          "text": [
            "Enter a number14\n",
            "Even\n"
          ]
        }
      ],
      "source": [
        "number = int(input('Enter a number'))\n",
        "if number == 0:\n",
        "    print ('Zero')\n",
        "elif number % 2 == 0:\n",
        "    print ('Even')\n",
        "else:\n",
        "    print ('Odd')\n",
        "# complete the code\n"
      ]
    },
    {
      "cell_type": "markdown",
      "metadata": {
        "id": "GPMvrhUSPCuK"
      },
      "source": [
        "#### <p style=\"font-family: Arial; font-size:1.4em; background-color: yellow; color:black;\"> Problem #2.3 </p>\n",
        "\n",
        "1. Input a number\n",
        "2. Decide whether it is  \n",
        ">  Case 1: number < 0 <br>\n",
        ">  Case 2: 0 <= number < 100 or <br>\n",
        ">  Case 3: number > 100\n",
        "3. Print the result ( Case 1, 2, or 3)\n",
        "\n",
        "> Use the if-elif-else statement\n",
        "\n",
        "<font color='red'> ** Do not use the \"Logical Opertors\" (and, or, not). Use only if-elif-else with single condition.\n",
        "<br> No need to use the condition like 0 <= number < 100 when you use \"elif\" statement ** </font>\n"
      ]
    },
    {
      "cell_type": "code",
      "execution_count": 29,
      "metadata": {
        "colab": {
          "base_uri": "https://localhost:8080/"
        },
        "id": "JUNXpx-FPCuK",
        "outputId": "b188a4a1-461d-463a-b629-e1d436f7425e"
      },
      "outputs": [
        {
          "output_type": "stream",
          "name": "stdout",
          "text": [
            "Enter a number20\n",
            "Case 2\n"
          ]
        }
      ],
      "source": [
        "number = int(input('Enter a number'))\n",
        "if number < 0:\n",
        "    print ('Case 1')\n",
        "elif 0<= number < 100:\n",
        "    print ('Case 2')\n",
        "else:\n",
        "    print ('Case 3')\n",
        "\n",
        "# complete the code"
      ]
    },
    {
      "cell_type": "markdown",
      "metadata": {
        "id": "L45en_r7PCuK"
      },
      "source": [
        "## Don't forget to <font color='red'> **\"commit\"** </font> your work or <font color='red'> **\"save\"** </font> in Google Colab\n",
        "## before moving to the next section."
      ]
    },
    {
      "cell_type": "markdown",
      "metadata": {
        "id": "Ka84kJ8QPCuK"
      },
      "source": [
        "***\n",
        "# <p style=\"font-family: Arial; font-size:1.4em;color:red;\"> 3. Nested if statement </p>"
      ]
    },
    {
      "cell_type": "markdown",
      "metadata": {
        "id": "xN-M0Wb5PCuK"
      },
      "source": [
        "<img src=\"https://nimbus-screenshots.s3.amazonaws.com/s/40f9cb96e28bea9192302328e49fd175.png\" width=720>"
      ]
    },
    {
      "cell_type": "code",
      "execution_count": 30,
      "metadata": {
        "colab": {
          "base_uri": "https://localhost:8080/"
        },
        "id": "y1e4JlW_PCuK",
        "outputId": "df515ff2-667f-4e85-d502-8aaaa1ed47a5"
      },
      "outputs": [
        {
          "output_type": "stream",
          "name": "stdout",
          "text": [
            "Enter your number603\n",
            "603  is greater than or equal to 100\n"
          ]
        }
      ],
      "source": [
        "\n",
        "usernum = int(input(\"Enter your number\"))\n",
        "\n",
        "if usernum < 50:\n",
        "\tprint (usernum, \" is less than 50\")\n",
        "else:\n",
        "\tif usernum < 100:\n",
        "\t\tprint (usernum, \" is greater than or equal to 50 and less than 100\")\n",
        "\telse:\n",
        "\t\tprint (usernum, \" is greater than or equal to 100\")\n",
        ""
      ]
    },
    {
      "cell_type": "code",
      "execution_count": 31,
      "metadata": {
        "colab": {
          "base_uri": "https://localhost:8080/"
        },
        "id": "j5rVh3oRPCuK",
        "outputId": "eda144e2-af9d-4a45-d922-cfd0ff827ab0"
      },
      "outputs": [
        {
          "output_type": "stream",
          "name": "stdout",
          "text": [
            "84\n",
            "84  is even number\n"
          ]
        }
      ],
      "source": [
        "import random\n",
        "\n",
        "number = random.randint(0, 100)\n",
        "print (number)\n",
        "\n",
        "if (number % 2 == 0):\n",
        "\tprint ( number, \" is even number\")\n",
        "else:\n",
        "\tprint ( number, \" is odd number\")"
      ]
    },
    {
      "cell_type": "markdown",
      "metadata": {
        "id": "50ah4eczPCuR"
      },
      "source": [
        "#### <p style=\"font-family: Arial; font-size:1.4em; background-color: yellow; color:black;\"> Problem #3.1 </p>\n",
        "\n",
        "1. Make the if statement for the below flowchart\n",
        "> Use the \"nested if\" statement. Do not use \"elif\"\n",
        "\n",
        "<font color='red'> ** Do not use the \"elif\" if-elif-else strucutre. Use the Nested if statement\n",
        "</font>\n",
        "![Nested If statement Flow Chart](https://github.com/AVC-CS/PythonCH03/blob/main/FC31.png?raw=1)\n"
      ]
    },
    {
      "cell_type": "code",
      "execution_count": 32,
      "metadata": {
        "colab": {
          "base_uri": "https://localhost:8080/"
        },
        "id": "NbQNn8I0PCuR",
        "outputId": "d3003801-4d65-481d-b240-7eeba4bdfa73"
      },
      "outputs": [
        {
          "output_type": "stream",
          "name": "stdout",
          "text": [
            "Enter a number30\n",
            "Number 30 is greater than or equal to 0 and less than 100\n"
          ]
        }
      ],
      "source": [
        "number = int(input('Enter a number'))\n",
        "\n",
        "if number < 0:\n",
        "    print (f'Number {number} is negative')\n",
        "else:\n",
        "    if number < 100:\n",
        "        print (f'Number {number} is greater than or equal to 0 and less than 100')\n",
        "    else:\n",
        "        print (f'Number {number} is greater than 100')\n",
        ""
      ]
    },
    {
      "cell_type": "markdown",
      "metadata": {
        "id": "UsgRyct-PCuR"
      },
      "source": [
        "#### <p style=\"font-family: Arial; font-size:1.4em; background-color: yellow; color:black;\"> Problem #3.2 </p>\n",
        "\n",
        "1. Input a number\n",
        "2. Decide the range to which belongs\n",
        ">  Range 1: less than 0  <br>\n",
        ">  Range 2: 0 <= number < 100 <br>\n",
        ">  Range 3: number >= 100 <br>\n",
        "3. Print the result ( Range 1, 2, or 3)\n",
        "\n",
        "> Use the Nested if statement\n",
        "\n",
        "<font color='red'> ** Do not use the \"Logical Opertors\" (and, or, not) and elif statement. Use only Nested if.\n",
        "</font>\n"
      ]
    },
    {
      "cell_type": "code",
      "execution_count": 34,
      "metadata": {
        "colab": {
          "base_uri": "https://localhost:8080/"
        },
        "id": "xBdrCWCvPCuS",
        "outputId": "b24ed982-f588-4a5f-b68b-5457f1af8458"
      },
      "outputs": [
        {
          "output_type": "stream",
          "name": "stdout",
          "text": [
            "Enter a number1\n",
            "Number 1 is in range 2\n"
          ]
        }
      ],
      "source": [
        "number = int(input('Enter a number'))\n",
        "\n",
        "if number < 0:\n",
        "    range = 1\n",
        "else:\n",
        "    if 0 <= number < 100:\n",
        "        range = 2\n",
        "    else:\n",
        "        if number >= 100:\n",
        "            range = 3\n",
        "print (f'Number {number} is in range {range}')\n"
      ]
    },
    {
      "cell_type": "markdown",
      "metadata": {
        "id": "IVIXHqEpPCuS"
      },
      "source": [
        "#### <p style=\"font-family: Arial; font-size:1.4em; background-color: yellow; color:black;\"> Problem #3.3 </p>\n",
        "\n",
        "1. Input three numbers\n",
        "2. Decide the smallest number\n",
        "3. Print the smallest number\n",
        "\n",
        "> Use the Nested if statement. Implement the same code as the flow chart <br>\n",
        "> The purpose of this code is to practice \"NESTED IF\" <br>\n",
        "<font color='red'> ** Do not use the \"Logical Opertors\" (and, or, not) and elif statement. Use only Nested if.\n",
        "</font>\n",
        "\n",
        "![Flow Chart: Find the min value](https://github.com/AVC-CS/PythonCH03/blob/main/FC33.png?raw=1)"
      ]
    },
    {
      "cell_type": "code",
      "execution_count": 36,
      "metadata": {
        "colab": {
          "base_uri": "https://localhost:8080/"
        },
        "id": "athWjFprPCuS",
        "outputId": "90218c0d-c76a-4684-a60d-825232b2e5d1"
      },
      "outputs": [
        {
          "output_type": "stream",
          "name": "stdout",
          "text": [
            "Enter a number 20\n",
            "Enter a number 30\n",
            "Enter a number 40\n",
            "The smallest number is 20\n"
          ]
        }
      ],
      "source": [
        "num1 = int(input('Enter a number '))\n",
        "num2 = int(input('Enter a number '))\n",
        "num3 = int(input('Enter a number '))\n",
        "\n",
        "if num1 < num2:\n",
        "    if num1 < num3:\n",
        "        print (f'The smallest number is {num1}')\n",
        "    else:\n",
        "        if num1 > num3:\n",
        "            print (f'The smallest number is {num3}')\n",
        "        else:\n",
        "          if num2 < num3:\n",
        "              print (f'The smallest number is {num2}')\n",
        "          else:\n",
        "            if num2 > num3:\n",
        "                print (f'The smallest number is {num3}')\n",
        "    # Complete the code. Only use Nested-If structure. If - else\n",
        "    # No and/or\n",
        "    # No elif\n",
        ""
      ]
    },
    {
      "cell_type": "markdown",
      "metadata": {
        "id": "2mwVhG-5PCuS"
      },
      "source": [
        "## Don't forget to <font color='red'> **\"commit\"** </font> your work or <font color='red'> **\"save\"** </font> in Google Colab\n",
        "## before moving to the next section."
      ]
    },
    {
      "cell_type": "markdown",
      "metadata": {
        "id": "b_fPozU7PCuS"
      },
      "source": [
        "***\n",
        "# <p style=\"font-family: Arial; font-size:1.4em;color:red;\"> 4. Logical Operators</p>\n",
        "\n",
        "<img src=\"https://p76.f0.n0.cdn.getcloudapp.com/items/nOu9XRmk/fddfa174-c3fd-4a15-815c-513e0d162889.jpg?v=1d8df7291331860f72b8eaf47140b26c\">\n"
      ]
    },
    {
      "cell_type": "markdown",
      "metadata": {
        "id": "mWrIGYgCPCuS"
      },
      "source": [
        "#### <p style=\"font-family: Arial; font-size:1.4em; background-color: yellow; color:black;\"> Problem #4.1 </p>\n",
        "#### Check the score is valid.\n",
        "> The valid condition: score must be greager than 0 and less than or equal to 100\n"
      ]
    },
    {
      "cell_type": "code",
      "execution_count": 38,
      "metadata": {
        "colab": {
          "base_uri": "https://localhost:8080/"
        },
        "id": "BMLYEO6OPCuS",
        "outputId": "3727031f-6b90-4866-c9dc-1483c954a754"
      },
      "outputs": [
        {
          "output_type": "stream",
          "name": "stdout",
          "text": [
            "Enter your score300\n",
            "Score is out of range\n"
          ]
        }
      ],
      "source": [
        "score = int(input(\"Enter your score\"))\n",
        "\n",
        "if ( score < 0 or score > 100):\n",
        "\tprint (\"Score is out of range\")\n",
        ""
      ]
    },
    {
      "cell_type": "code",
      "execution_count": 39,
      "metadata": {
        "colab": {
          "base_uri": "https://localhost:8080/"
        },
        "id": "me6cAkfUPCuS",
        "outputId": "a8077fc3-d4f7-4636-82dc-639280392892"
      },
      "outputs": [
        {
          "output_type": "stream",
          "name": "stdout",
          "text": [
            "Enter your score32\n",
            "32  is between 0 and 100 \n"
          ]
        }
      ],
      "source": [
        "# Take the score\n",
        "# Check the scoer is between 0 and 100\n",
        "#\n",
        "score = int(input(\"Enter your score\"))\n",
        "if score >= 0 and score <= 100:\n",
        "\tprint (score, \" is between 0 and 100 \")\n",
        "else:\n",
        "\tprint (score, \" is less than 0 or greater than 100\")"
      ]
    },
    {
      "cell_type": "markdown",
      "metadata": {
        "id": "T1wKeIRKPCuS"
      },
      "source": [
        "#### <p style=\"font-family: Arial; font-size:1.4em; background-color: yellow; color:black;\"> Problem #4.2 </p>\n",
        "#### Make the if-elif statement to do the following actions in the table\n",
        "> Condition A: num1 > 0 <br>\n",
        "> Condition B: num2 > 0 <br>\n",
        "\n",
        "..    | Condition A True | Condition A False |\n",
        "---|---|---|\n",
        "Condition B True | print ('Two values are positive') | print ('num2 is positive') |\n",
        "Condition B False | print ('num1 is positive) | |\n"
      ]
    },
    {
      "cell_type": "code",
      "execution_count": 40,
      "metadata": {
        "colab": {
          "base_uri": "https://localhost:8080/"
        },
        "id": "41jF3PN4PCuS",
        "outputId": "655a76da-4fb2-401c-fb59-7b8617a228b2"
      },
      "outputs": [
        {
          "output_type": "stream",
          "name": "stdout",
          "text": [
            "Enter the num10\n",
            "Enter the num223\n",
            "23 is positive\n"
          ]
        }
      ],
      "source": [
        "num1 = int(input('Enter the num1'))\n",
        "num2 = int(input('Enter the num2'))\n",
        "\n",
        "if num1 > 0 and num2 > 0:\n",
        "    print ('Two values are positive')\n",
        "elif num1 <= 0 and num2 > 0:\n",
        "    print (f'{num2} is positive')\n",
        "else:\n",
        "    print(f'{num1} is positive')# complete the code\n"
      ]
    },
    {
      "cell_type": "markdown",
      "metadata": {
        "id": "5gJ2BsupPCuT"
      },
      "source": [
        "#### <p style=\"font-family: Arial; font-size:1.4em; background-color: yellow; color:black;\"> Problem #4.3 </p>\n",
        "#### Make the \"Nested if statement\" structure to do the following actions in the table\n",
        "> Condition A: num1 > 0 <br>\n",
        "> Condition B: num2 > 0 <br>\n",
        "\n",
        "..    | Condition A True | Condition A False |\n",
        "---|---|---|\n",
        "Condition B True | print ('Two values are positive') | print ('num2 is positive') |\n",
        "Condition B False | print ('num1 is positive) | |\n"
      ]
    },
    {
      "cell_type": "code",
      "execution_count": 48,
      "metadata": {
        "colab": {
          "base_uri": "https://localhost:8080/"
        },
        "id": "pqU8hXU-PCuT",
        "outputId": "efa77eee-f205-4376-abb5-f75ef3f2739c"
      },
      "outputs": [
        {
          "output_type": "stream",
          "name": "stdout",
          "text": [
            "Enter the num120\n",
            "Enter the num2-3\n",
            "20 is positive\n"
          ]
        }
      ],
      "source": [
        "num1 = int(input('Enter the num1'))\n",
        "num2 = int(input('Enter the num2'))\n",
        "\n",
        "if num1 > 0 and num2 > 0:\n",
        "    print('Two values are positive') # complete the code\n",
        "elif num1 <= 0 and num2 > 0:\n",
        "    print (f'{num2} is positive')\n",
        "else:\n",
        "      print(f'{num1} is positive')\n",
        "    # complete the code"
      ]
    },
    {
      "cell_type": "markdown",
      "metadata": {
        "id": "jEr6Y_oePCuT"
      },
      "source": [
        "#### <p style=\"font-family: Arial; font-size:1.4em; background-color: yellow; color:black;\"> Problem #4.4 </p>\n",
        "#### DeMorgen's Law\n",
        "#### <font color='red'> not ( A and B) = not A or not B </font>\n",
        "\n",
        "> Condition A: num1 > 0 <br>\n",
        "> Condition B: num2 > 0 <br>\n",
        "\n",
        "> not ( num1 > 0 and num2 > 0) <br>\n",
        "- is the same as <br>\n",
        "> not (num1 > 0) or not (num2 > 0) <br>\n",
        "- is the same as <br>\n",
        "> num1 <= 0 or num2 <= 0 <br>\n",
        "***\n",
        "#### Make the same if-statement using DeMorgen's Law <font color='red'> without \"not\" operator </font>\n",
        "\n",
        "> if not (num1 > 0 and num2 > 0):"
      ]
    },
    {
      "cell_type": "code",
      "execution_count": 51,
      "metadata": {
        "colab": {
          "base_uri": "https://localhost:8080/"
        },
        "id": "4nHjzApfPCuT",
        "outputId": "b5ff4ac4-a672-42c5-90c2-1b000c35cd21"
      },
      "outputs": [
        {
          "output_type": "stream",
          "name": "stdout",
          "text": [
            "One of two values are less than 0\n"
          ]
        }
      ],
      "source": [
        "num1 = -10\n",
        "num2 = 20\n",
        "\n",
        "if not (num1 > 0 and num2 > 0):\n",
        "# complete your code\n",
        "    print ('One of two values are less than 0')\n",
        "\n",
        "\n"
      ]
    },
    {
      "cell_type": "markdown",
      "metadata": {
        "id": "nk4Z05A_PCuT"
      },
      "source": [
        "#### <p style=\"font-family: Arial; font-size:1.4em; background-color: yellow; color:black;\"> Problem #4.5 </p>\n",
        "#### <font color='red'> number > 0 and number < 100  </font>\n",
        "- same as\n",
        "#### <font color='red'> 0 < number < 100 </font>\n",
        "\n",
        "#### Make the same if-statement without <font color='red'> \"and\" </font> operator\n",
        "\n",
        "> if num1 > 0 and num1 < 100: <br>\n",
        "***\n",
        "> 👉 <font color='red'> if 0 < num1 < 100: </font>"
      ]
    },
    {
      "cell_type": "code",
      "execution_count": 54,
      "metadata": {
        "colab": {
          "base_uri": "https://localhost:8080/"
        },
        "id": "_xuo1hOBPCuT",
        "outputId": "36c8528e-fa97-4e46-e1ce-e7b356d4c01f"
      },
      "outputs": [
        {
          "output_type": "stream",
          "name": "stdout",
          "text": [
            "Enter a number30\n",
            "num1 is greater than 0 and less than 100\n"
          ]
        }
      ],
      "source": [
        "num1 = int(input('Enter a number'))\n",
        "\n",
        "if 0 < num1 < 100:# complete the same condition without \"and\" operator as num1 > 0 and num1 < 100\n",
        "# if num1 > 0 and num1 < 100:\n",
        "    print ('num1 is greater than 0 and less than 100')"
      ]
    },
    {
      "cell_type": "markdown",
      "metadata": {
        "id": "2Jsz_8m_PCuT"
      },
      "source": [
        "#### <p style=\"font-family: Arial; font-size:1.4em; background-color: yellow; color:black;\"> Problem #4.6 </p>\n",
        "#### Complete the code to check the input number is greater than 50 and leass than 100\n",
        "\n",
        "> 👉 <font color='red'> input value must be greater than 50 and less than 100 </font> <br>\n",
        "> if True, print it <br>\n",
        "> No requirement. What is your preference to make the if-condition?"
      ]
    },
    {
      "cell_type": "code",
      "execution_count": 60,
      "metadata": {
        "colab": {
          "base_uri": "https://localhost:8080/"
        },
        "id": "TqNgx8NAPCuT",
        "outputId": "220d893b-b567-40f9-beda-073b4449a96a"
      },
      "outputs": [
        {
          "output_type": "stream",
          "name": "stdout",
          "text": [
            "Enter the number60\n",
            "60\n"
          ]
        }
      ],
      "source": [
        "number = int(input('Enter the number'))\n",
        "\n",
        "if not (50 > number < 100):\n",
        "    print(number)# complete the code"
      ]
    },
    {
      "cell_type": "markdown",
      "metadata": {
        "id": "Bimt_jP8PCuU"
      },
      "source": [
        "#### <p style=\"font-family: Arial; font-size:1.4em; background-color: yellow; color:black;\"> Problem #4.7 </p>\n",
        "#### Consider the following code. The if-condition is True or False?\n",
        "\n",
        "\n",
        "> 👉  What value of num will make the condition True?<br>\n",
        "```\n",
        "num = 50\n",
        "if num < 0 and num > 100:\n",
        "     print ('condition is True')\n",
        "```\n",
        "#### What value of num' will make the condition True?\n"
      ]
    },
    {
      "cell_type": "code",
      "execution_count": 65,
      "metadata": {
        "colab": {
          "base_uri": "https://localhost:8080/"
        },
        "id": "vFG6cndXPCuU",
        "outputId": "d168a4d5-5475-4ae1-d5d5-5ecc62891a60"
      },
      "outputs": [
        {
          "output_type": "stream",
          "name": "stdout",
          "text": [
            "Condition True\n"
          ]
        }
      ],
      "source": [
        "num = 30# set your value to num to make the conditino True\n",
        "\n",
        "if num > 0 and num < 100:\n",
        "    print ('Condition True')"
      ]
    },
    {
      "cell_type": "markdown",
      "metadata": {
        "id": "jKADS1sFPCuU"
      },
      "source": [
        "## Don't forget to <font color='red'> **\"commit\"** </font> your work or <font color='red'> **\"save\"** </font> in Google Colab\n",
        "## before moving to the next section."
      ]
    },
    {
      "cell_type": "markdown",
      "metadata": {
        "id": "GnNfdTE6PCuU"
      },
      "source": [
        "***\n",
        "# <p style=\"font-family: Arial; font-size:1.4em;color:red;\"> 5. Short-hand if statement </p>"
      ]
    },
    {
      "cell_type": "markdown",
      "metadata": {
        "id": "XegNwj5VPCuU"
      },
      "source": [
        "#### <p style=\"font-family: Arial; font-size:1.4em; background-color: yellow; color:black;\"> Problem #5.1 </p>\n",
        "#### Run all the below cells and check out the results\n",
        "\n",
        "\n",
        "> 👉  What is the main adavantage of short-hand if statement?\n",
        "```\n",
        "num = 50\n",
        "flag = 1 if num > 0 else 0\n",
        "```\n"
      ]
    },
    {
      "cell_type": "markdown",
      "metadata": {
        "id": "-PKyK46CPCuU"
      },
      "source": [
        "### Short Hand if"
      ]
    },
    {
      "cell_type": "code",
      "execution_count": 66,
      "metadata": {
        "colab": {
          "base_uri": "https://localhost:8080/"
        },
        "id": "QbdS0bvUPCuU",
        "outputId": "fe6a5703-ab0b-4611-b54d-40d85c058568"
      },
      "outputs": [
        {
          "output_type": "stream",
          "name": "stdout",
          "text": [
            "100  is less than  90\n"
          ]
        }
      ],
      "source": [
        "score1 = 100\n",
        "score2 = 90\n",
        "\n",
        "if ( score1 > score2): print( score1, \" is less than \", score2)"
      ]
    },
    {
      "cell_type": "markdown",
      "metadata": {
        "id": "HlxO70D4PCuU"
      },
      "source": [
        "### Short Hand if else\n",
        "\n",
        "```\n",
        "if num % 2 == 0:\n",
        "    even = 1\n",
        "else:\n",
        "    even = 0\n",
        "    \n",
        "> This code is the same as below"
      ]
    },
    {
      "cell_type": "code",
      "execution_count": 67,
      "metadata": {
        "colab": {
          "base_uri": "https://localhost:8080/"
        },
        "id": "GiDfZACPPCuU",
        "outputId": "f069b8dc-923d-4bb8-b7f5-35a519ea655f"
      },
      "outputs": [
        {
          "output_type": "execute_result",
          "data": {
            "text/plain": [
              "1"
            ]
          },
          "metadata": {},
          "execution_count": 67
        }
      ],
      "source": [
        "num  = 22\n",
        "even = 1 if num % 2 == 0 else 0\n",
        "even"
      ]
    },
    {
      "cell_type": "code",
      "execution_count": 68,
      "metadata": {
        "colab": {
          "base_uri": "https://localhost:8080/"
        },
        "id": "y9pvKLcaPCuU",
        "outputId": "a1b4dfe3-d9fe-43f4-8584-ec26c022388c"
      },
      "outputs": [
        {
          "output_type": "stream",
          "name": "stdout",
          "text": [
            "100  is greater than 90\n"
          ]
        }
      ],
      "source": [
        "print (score2, \" is greater than \", score1) if ( score1 < score2) else print(score1, \" is greater than\", score2)"
      ]
    },
    {
      "cell_type": "markdown",
      "metadata": {
        "id": "03C-W9rZPCuU"
      },
      "source": [
        "### The following code has error since there is no else part"
      ]
    },
    {
      "cell_type": "code",
      "execution_count": 69,
      "metadata": {
        "colab": {
          "base_uri": "https://localhost:8080/"
        },
        "id": "6OC3nPu7PCuV",
        "outputId": "f75f07d9-deba-4bef-ca57-3a199bb6ce80"
      },
      "outputs": [
        {
          "output_type": "stream",
          "name": "stdout",
          "text": [
            "23\n",
            "13\n",
            "23  is greater than 13\n"
          ]
        }
      ],
      "source": [
        "score1 = int (input())\n",
        "score2 = int(input())# Error\n",
        "print (score2, \" is greater than \", score1) if ( score1 < score2) else print(score1, \" is greater than\", score2)"
      ]
    },
    {
      "cell_type": "markdown",
      "metadata": {
        "id": "cl4yfzyMPCuV"
      },
      "source": [
        "#### if val is even flag =0, otherwise 1"
      ]
    },
    {
      "cell_type": "code",
      "execution_count": 70,
      "metadata": {
        "colab": {
          "base_uri": "https://localhost:8080/"
        },
        "id": "bhMrvAMjPCuV",
        "outputId": "60870018-b21e-4acc-8d54-479e9c11d2a9"
      },
      "outputs": [
        {
          "output_type": "stream",
          "name": "stdout",
          "text": [
            "1\n"
          ]
        }
      ],
      "source": [
        "val = 11\n",
        "\n",
        "flag = 0 if val % 2 == 0 else 1\n",
        "print (flag)"
      ]
    },
    {
      "cell_type": "markdown",
      "metadata": {
        "id": "U0lQuX5xPCuV"
      },
      "source": [
        "#### <p style=\"font-family: Arial; font-size:1.4em; background-color: yellow; color:black;\"> Problem #5.2 </p>\n",
        "#### Run all the below cells and check out the <font color='red'> results </font>\n",
        "\n",
        "\n",
        "> 👉  Check out the \"returned\" value from the conidtion\n",
        "```\n",
        "num > 0 and num < 200 and 99\n",
        "```\n"
      ]
    },
    {
      "cell_type": "markdown",
      "metadata": {
        "id": "9MXXfFO2PCuV"
      },
      "source": [
        "#### And operator will return the last term if all the previous terms are True\n",
        "#### if the previous terms are not True, the first false term will be returned"
      ]
    },
    {
      "cell_type": "code",
      "execution_count": 71,
      "metadata": {
        "colab": {
          "base_uri": "https://localhost:8080/"
        },
        "id": "OsNy9PyDPCuV",
        "outputId": "d4d2f006-eb07-41b2-f8fc-b322b14b2d24"
      },
      "outputs": [
        {
          "output_type": "execute_result",
          "data": {
            "text/plain": [
              "False"
            ]
          },
          "metadata": {},
          "execution_count": 71
        }
      ],
      "source": [
        "True and False and True # will return False"
      ]
    },
    {
      "cell_type": "code",
      "execution_count": 72,
      "metadata": {
        "colab": {
          "base_uri": "https://localhost:8080/"
        },
        "id": "KKCx7S1SPCuV",
        "outputId": "6ca28574-2dd7-447f-9c76-0964e74c56cf"
      },
      "outputs": [
        {
          "output_type": "execute_result",
          "data": {
            "text/plain": [
              "True"
            ]
          },
          "metadata": {},
          "execution_count": 72
        }
      ],
      "source": [
        "True and True and True # will return True"
      ]
    },
    {
      "cell_type": "code",
      "execution_count": 74,
      "metadata": {
        "id": "LjfiUG9hPCuV"
      },
      "outputs": [],
      "source": [
        "A = 10 ; B = 5; C = 0\n",
        "\n",
        "A and B and C   # will return 0. It treated as False\n",
        "\n",
        "if A and B and C:\n",
        "    print(C)    # not printed since the condition is False"
      ]
    },
    {
      "cell_type": "code",
      "execution_count": 75,
      "metadata": {
        "colab": {
          "base_uri": "https://localhost:8080/"
        },
        "id": "mzZsKXFaPCuV",
        "outputId": "32fa029f-b9ca-42e7-f9f5-a76357a7c4b9"
      },
      "outputs": [
        {
          "output_type": "execute_result",
          "data": {
            "text/plain": [
              "False"
            ]
          },
          "metadata": {},
          "execution_count": 75
        }
      ],
      "source": [
        "num1 = 10; num2 = 20; num3 = -5\n",
        "\n",
        "num1 == 10 and num2 < 100 and num3 > 0\n",
        "# will return false since the last condition is false"
      ]
    },
    {
      "cell_type": "code",
      "execution_count": 76,
      "metadata": {
        "colab": {
          "base_uri": "https://localhost:8080/"
        },
        "id": "iI9xkJ8iPCuW",
        "outputId": "67151039-9b89-4934-ad7d-dabf1d3d2999"
      },
      "outputs": [
        {
          "output_type": "execute_result",
          "data": {
            "text/plain": [
              "99"
            ]
          },
          "metadata": {},
          "execution_count": 76
        }
      ],
      "source": [
        "num1 = 10; num2 = 20;\n",
        "\n",
        "num1 == 10 and num2 < 100 and 99\n",
        "# will return 99 since all the conditions except the last one is True"
      ]
    },
    {
      "cell_type": "code",
      "execution_count": 77,
      "metadata": {
        "colab": {
          "base_uri": "https://localhost:8080/"
        },
        "id": "oAyH1FEBPCuW",
        "outputId": "d63afddf-977d-4b64-e037-e15d7bb6c52e"
      },
      "outputs": [
        {
          "output_type": "execute_result",
          "data": {
            "text/plain": [
              "False"
            ]
          },
          "metadata": {},
          "execution_count": 77
        }
      ],
      "source": [
        "num1 = 10; num2 = 20;\n",
        "\n",
        "num1 == 10 and num2 > 100 and 99\n",
        "# will return False since the second condition is Fals"
      ]
    },
    {
      "cell_type": "code",
      "execution_count": 78,
      "metadata": {
        "colab": {
          "base_uri": "https://localhost:8080/"
        },
        "id": "7ahg2VXOPCuW",
        "outputId": "63a29228-76ba-4c9f-f0fc-d350a92035c9"
      },
      "outputs": [
        {
          "output_type": "stream",
          "name": "stdout",
          "text": [
            "True\n",
            "10\n"
          ]
        }
      ],
      "source": [
        "a = 10\n",
        "b = 5\n",
        "x = a > b\n",
        "print (x) # true\n",
        "x = a > b and 10\n",
        "print (x) # 10"
      ]
    },
    {
      "cell_type": "code",
      "execution_count": 79,
      "metadata": {
        "colab": {
          "base_uri": "https://localhost:8080/"
        },
        "id": "DpJ4QR1uPCuW",
        "outputId": "fd8330f0-9b75-4bc3-f714-d7f32ff1058d"
      },
      "outputs": [
        {
          "output_type": "stream",
          "name": "stdout",
          "text": [
            "10\n"
          ]
        }
      ],
      "source": [
        "a = 10\n",
        "b = 5\n",
        "x = a > b and 10 or 11\n",
        "print (x)"
      ]
    },
    {
      "cell_type": "code",
      "execution_count": 80,
      "metadata": {
        "colab": {
          "base_uri": "https://localhost:8080/"
        },
        "id": "4Ov3wmGvPCuW",
        "outputId": "b4660b41-b778-441f-c227-34932159f704"
      },
      "outputs": [
        {
          "output_type": "stream",
          "name": "stdout",
          "text": [
            "[2, 4]\n"
          ]
        }
      ],
      "source": [
        "l1 = [1,2,3,4,5]\n",
        "\n",
        "even = [ i for i in l1 if i % 2 ==0]\n",
        "print (even)"
      ]
    },
    {
      "cell_type": "markdown",
      "metadata": {
        "id": "zAvEtUWmPCuW"
      },
      "source": [
        "#### <p style=\"font-family: Arial; font-size:1.4em; background-color: yellow; color:black;\"> Problem #5.3 </p>\n",
        "#### Complete the code to set the flag variable to 0 if num is less than 0 otherwise set it to 1\n",
        "\n",
        "> 👉 Use the short-hand if statement  \n",
        "```\n",
        "# the same if-statement\n",
        "if num < 0:\n",
        "    flag = 0\n",
        "else:\n",
        "    flag = 1\n",
        "```\n"
      ]
    },
    {
      "cell_type": "code",
      "execution_count": 83,
      "metadata": {
        "colab": {
          "base_uri": "https://localhost:8080/"
        },
        "id": "YRSau1RZPCuW",
        "outputId": "33c7dc8e-6f0f-42d6-9a44-6d3ff124aeb1"
      },
      "outputs": [
        {
          "name": "stdout",
          "output_type": "stream",
          "text": [
            "Enter a num: 0\n"
          ]
        }
      ],
      "source": [
        "num = int(input('Enter a num: '))\n",
        "\n",
        "flag = 0 if num < 0 else 1# complete this code"
      ]
    },
    {
      "cell_type": "markdown",
      "metadata": {
        "id": "lrkcWRZwPCuW"
      },
      "source": [
        "## Don't forget to <font color='red'> **\"commit\"** </font> your work or <font color='red'> **\"save\"** </font> in Google Colab\n",
        "## before moving to the next section."
      ]
    },
    {
      "cell_type": "markdown",
      "metadata": {
        "id": "i8DihR9jPCuW"
      },
      "source": [
        "***\n",
        "# <p style=\"font-family:Arial; font-size:1.4em;color:Red;\"> 6. Comparing Strings </p>\n"
      ]
    },
    {
      "cell_type": "markdown",
      "metadata": {
        "id": "ElioBRcYPCuW"
      },
      "source": [
        "#### <p style=\"font-family: Arial; font-size:1.4em; background-color: yellow; color:black;\"> Problem #6.1 </p>\n",
        "#### Run the following code cell and check out the result\n",
        "\n",
        "> 👉 String value comparison"
      ]
    },
    {
      "cell_type": "markdown",
      "metadata": {
        "id": "67KTrytXPCuX"
      },
      "source": [
        "#### Alphabetical order comparison"
      ]
    },
    {
      "cell_type": "code",
      "execution_count": null,
      "metadata": {
        "id": "QWHqGOQEPCuX"
      },
      "outputs": [],
      "source": [
        "name1 = 'Mary'\n",
        "name2 = 'Macy'\n",
        "\n",
        "if name1 < name2:\n",
        "\tprint (f'{name1}  is less than {name2}')\n",
        "else:\n",
        "\tprint (f'{name1}  is greater than or equal to {name2}')\n",
        "\n"
      ]
    },
    {
      "cell_type": "code",
      "execution_count": null,
      "metadata": {
        "id": "prRh-u0kPCuX",
        "outputId": "47f4710e-2ae8-4712-f662-55f2330e1373"
      },
      "outputs": [
        {
          "name": "stdout",
          "output_type": "stream",
          "text": [
            "Mary  is less than or equal to Nancy\n"
          ]
        }
      ],
      "source": [
        "name1 = \"Mary\"\n",
        "name2 = \"Nancy\"\n",
        "\n",
        "if (name1 > name2):\n",
        "\tprint (f'{name1}  is greater than {name2}')\n",
        "else:\n",
        "\tprint (f'{name1}  is less than or equal to {name2}')\n"
      ]
    },
    {
      "cell_type": "markdown",
      "metadata": {
        "id": "FDYeTjWePCuX"
      },
      "source": [
        "#### <p style=\"font-family: Arial; font-size:1.4em; background-color: yellow; color:black;\"> Problem #6.2 </p>\n",
        "#### Run the following code cell and check out the result\n",
        "\n",
        "> 👉 String value comparison\n",
        "\n",
        "#### String comparison by the \"length\""
      ]
    },
    {
      "cell_type": "code",
      "execution_count": null,
      "metadata": {
        "id": "6jIJf4n3PCuX"
      },
      "outputs": [],
      "source": [
        "name1 = 'Mary'\n",
        "name2 = 'Mariella'\n",
        "\n",
        "if len(name1) < len(name2):\n",
        "\tprint (f'{name1}  is shorter than {name2}')\n",
        "else:\n",
        "\tprint (f'{name1}  is longer than or equal to {name2}')\n",
        "\n"
      ]
    },
    {
      "cell_type": "markdown",
      "metadata": {
        "id": "D6zSjFSXPCuX"
      },
      "source": [
        "#### <p style=\"font-family: Arial; font-size:1.4em; background-color: yellow; color:black;\"> Problem #6.3 </p>\n",
        "#### Run the following code cell and check out the result\n",
        "\n",
        "> 👉 String Library functions  \n"
      ]
    },
    {
      "cell_type": "markdown",
      "metadata": {
        "id": "rdr6y03qPCuX"
      },
      "source": [
        "### String Library Functions\n",
        "<a href=\"https://docs.python.org/3/library/string.html\"> Python Documents for String </a>\n",
        "\n",
        "\n",
        "\n",
        "<a href=\"https://docs.python.org/3/library/stdtypes.html#string-methods\"> String Methods\n",
        "<br>\n",
        "</a>\n",
        "<a href=\"https://www.w3schools.com/python/python_ref_string.asp\"> W3 School </a>\n",
        "\n",
        "<img src=\"https://nimbus-screenshots.s3.amazonaws.com/s/4ac262e3ba568032f7992d4556be2443.png\">\n",
        "\n"
      ]
    },
    {
      "cell_type": "code",
      "execution_count": null,
      "metadata": {
        "id": "wPgrA6xgPCuX"
      },
      "outputs": [],
      "source": [
        "'BANANA'.isupper()\n",
        "\n",
        "'banana'.isupper()\n",
        "\n",
        "'baNana'.isupper()\n",
        "\n",
        "' '.isupper()"
      ]
    },
    {
      "cell_type": "code",
      "execution_count": null,
      "metadata": {
        "id": "IUKRN4yGPCuX"
      },
      "outputs": [],
      "source": [
        "\n",
        "'   spacious   '.lstrip()\n",
        "\n",
        "'www.example.com'.lstrip('cmowz.')\n",
        "\n",
        "'Arthur: three!'.lstrip('Arthur: ')\n",
        "\n",
        "'Arthur: three!'.removeprefix('Arthur: ')"
      ]
    },
    {
      "cell_type": "code",
      "execution_count": null,
      "metadata": {
        "id": "6pI2sEHwPCuX"
      },
      "outputs": [],
      "source": [
        "email_str = \"name@company.com\"\n",
        "result1 = email_str.rstrip(\".com\" )\n",
        "result2 = email_str.lstrip(\"name@\")\n",
        "print (result1)\n",
        "print (result2)\n",
        "print (email_str)"
      ]
    },
    {
      "cell_type": "code",
      "execution_count": null,
      "metadata": {
        "id": "ampC7w1yPCuY"
      },
      "outputs": [],
      "source": [
        "email_str = \"name@company.com\"\n",
        "idx = email_str.find('@')\n",
        "print (idx)\n",
        "\n",
        "company_name = email_str[idx:len(email_str)]\n",
        "print (company_name)\n",
        "email_id = email_str[:idx]\n",
        "\n",
        "\n",
        "\n",
        "print (email_str[4:6])\n",
        "print (email_str[4:16])\n",
        "last_idx = len(email_str)\n",
        "print (email_str[4:last_idx])\n",
        "print (email_str[4:])\n"
      ]
    },
    {
      "cell_type": "code",
      "execution_count": null,
      "metadata": {
        "id": "20XBEaObPCuY"
      },
      "outputs": [],
      "source": [
        "\n",
        "'   spacious   '.rstrip()\n",
        "\n",
        "'mississippi'.rstrip('ipz')\n",
        "\n",
        "'Monty Python'.rstrip(' Python')\n",
        "\n",
        "'Monty Python'.removesuffix(' Python')"
      ]
    },
    {
      "cell_type": "code",
      "execution_count": null,
      "metadata": {
        "id": "VYPz_vp5PCuY"
      },
      "outputs": [],
      "source": [
        "\n",
        "\n",
        "'1,2,3'.split(',')\n",
        "\n",
        "'1,2,3'.split(',', maxsplit=1)\n",
        "\n",
        "'1,2,,3,'.split(',')\n",
        "\n",
        "'1 2 3'.split()\n",
        "\n",
        "'1 2 3'.split(maxsplit=1)\n",
        "\n",
        "'   1   2   3   '.split()\n",
        "\n",
        "'   spacious   '.strip()\n",
        "\n",
        "'www.example.com'.strip('cmowz.')\n",
        "\n"
      ]
    },
    {
      "cell_type": "code",
      "execution_count": null,
      "metadata": {
        "id": "RWjGTfo5PCuY"
      },
      "outputs": [],
      "source": [
        "input_str = input('Enter two numbers')\n",
        "print (input_str)\n",
        "x,y = input_str.split()\n",
        "print (int(x))\n",
        "print (int(y))\n",
        "\n",
        "x,y = int(input('Enter two numbers').split())\n",
        "print (int(x))\n",
        "print (int(y))\n",
        "\n",
        "\n",
        "\n"
      ]
    },
    {
      "cell_type": "markdown",
      "metadata": {
        "id": "nYf6Z6KJPCuY"
      },
      "source": [
        "<a href=\"https://docs.python.org/3/library/string.html\">\n",
        "\n",
        "\n",
        "<img src=\"https://nimbus-screenshots.s3.amazonaws.com/s/ebc2ce4ebcd9fa90a90f988674b16c1f.png\">\n",
        "\n",
        "</a>"
      ]
    }
  ],
  "metadata": {
    "kernelspec": {
      "display_name": "base",
      "language": "python",
      "name": "python3"
    },
    "language_info": {
      "codemirror_mode": {
        "name": "ipython",
        "version": 3
      },
      "file_extension": ".py",
      "mimetype": "text/x-python",
      "name": "python",
      "nbconvert_exporter": "python",
      "pygments_lexer": "ipython3",
      "version": "3.9.17"
    },
    "orig_nbformat": 4,
    "vscode": {
      "interpreter": {
        "hash": "32cd87c0c55905266dc8232ebf1148f668af0d9324249c125246585210a29cd6"
      }
    },
    "colab": {
      "provenance": []
    }
  },
  "nbformat": 4,
  "nbformat_minor": 0
}